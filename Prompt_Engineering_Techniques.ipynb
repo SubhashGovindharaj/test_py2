{
 "cells": [
  {
   "cell_type": "markdown",
   "id": "cf36e967",
   "metadata": {},
   "source": [
    "# 🧠 Prompt Engineering Techniques (OpenAI, No LangChain)\n",
    "A complete hands-on notebook with 11 core techniques used in real-world prompt engineering."
   ]
  },
  {
   "cell_type": "markdown",
   "id": "6728d61f",
   "metadata": {},
   "source": [
    "## 🔧 Setup & API Key"
   ]
  },
  {
   "cell_type": "code",
   "execution_count": null,
   "id": "3b30dded",
   "metadata": {},
   "outputs": [],
   "source": [
    "!pip install openai\n",
    "\n",
    "import openai\n",
    "openai.api_key = \"sk-...\"  # Replace with your actual key\n"
   ]
  },
  {
   "cell_type": "markdown",
   "id": "ad7af297",
   "metadata": {},
   "source": [
    "## Zero-Shot Prompting"
   ]
  },
  {
   "cell_type": "code",
   "execution_count": null,
   "id": "0d8de492",
   "metadata": {},
   "outputs": [],
   "source": [
    "prompt = \"Translate to French: Good morning\"\n",
    "response = openai.ChatCompletion.create(\n",
    "  model=\"gpt-3.5-turbo\",\n",
    "  messages=[{\"role\": \"user\", \"content\": prompt}]\n",
    ")\n",
    "print(response['choices'][0]['message']['content'])"
   ]
  },
  {
   "cell_type": "markdown",
   "id": "dd163d45",
   "metadata": {},
   "source": [
    "## Few-Shot Prompting"
   ]
  },
  {
   "cell_type": "code",
   "execution_count": null,
   "id": "cacbe5b1",
   "metadata": {},
   "outputs": [],
   "source": [
    "prompt = '''Translate English to French:\n",
    "Hello → Bonjour\n",
    "Thank you → Merci\n",
    "Goodbye →'''\n",
    "response = openai.ChatCompletion.create(\n",
    "  model=\"gpt-3.5-turbo\",\n",
    "  messages=[{\"role\": \"user\", \"content\": prompt}]\n",
    ")\n",
    "print(response['choices'][0]['message']['content'])"
   ]
  },
  {
   "cell_type": "markdown",
   "id": "18634eee",
   "metadata": {},
   "source": [
    "## Chain of Thought (CoT)"
   ]
  },
  {
   "cell_type": "code",
   "execution_count": null,
   "id": "21db9ecd",
   "metadata": {},
   "outputs": [],
   "source": [
    "prompt = \"If I have 3 pens and buy 2 more, how many pens do I have? Think step by step.\"\n",
    "response = openai.ChatCompletion.create(\n",
    "  model=\"gpt-3.5-turbo\",\n",
    "  messages=[{\"role\": \"user\", \"content\": prompt}]\n",
    ")\n",
    "print(response['choices'][0]['message']['content'])"
   ]
  },
  {
   "cell_type": "markdown",
   "id": "d2581cef",
   "metadata": {},
   "source": [
    "## Self-Consistency"
   ]
  },
  {
   "cell_type": "code",
   "execution_count": null,
   "id": "b7edb629",
   "metadata": {},
   "outputs": [],
   "source": [
    "answers = []\n",
    "for _ in range(5):\n",
    "    response = openai.ChatCompletion.create(\n",
    "      model=\"gpt-3.5-turbo\",\n",
    "      temperature=0.8,\n",
    "      messages=[{\"role\": \"user\", \"content\": \"What’s 24 + 17? Think step-by-step.\"}]\n",
    "    )\n",
    "    answers.append(response['choices'][0]['message']['content'])\n",
    "print(\"\\n\".join(answers))"
   ]
  },
  {
   "cell_type": "markdown",
   "id": "704b199f",
   "metadata": {},
   "source": [
    "## Instruction Prompting"
   ]
  },
  {
   "cell_type": "code",
   "execution_count": null,
   "id": "3250d00d",
   "metadata": {},
   "outputs": [],
   "source": [
    "prompt = \"You are a legal advisor. Summarize this contract clause in simple English:\\n\\nThe lessee shall be responsible for all repairs and damages...\"\n",
    "response = openai.ChatCompletion.create(\n",
    "  model=\"gpt-3.5-turbo\",\n",
    "  messages=[\n",
    "      {\"role\": \"system\", \"content\": \"You are a helpful legal advisor.\"},\n",
    "      {\"role\": \"user\", \"content\": prompt}\n",
    "  ]\n",
    ")\n",
    "print(response['choices'][0]['message']['content'])"
   ]
  },
  {
   "cell_type": "markdown",
   "id": "47532796",
   "metadata": {},
   "source": [
    "## ReAct Style Prompting"
   ]
  },
  {
   "cell_type": "code",
   "execution_count": null,
   "id": "92a3851b",
   "metadata": {},
   "outputs": [],
   "source": [
    "prompt = \"\"\"Question: What is the population of India divided by the area of India?\n",
    "Thought: I need to find both values.\n",
    "Action: Look up India's population and area.\n",
    "Observation: Population is 1.4B, area is 3.28M sq km.\n",
    "Thought: Now divide population by area.\n",
    "Answer:\"\"\"\n",
    "response = openai.ChatCompletion.create(\n",
    "  model=\"gpt-3.5-turbo\",\n",
    "  messages=[{\"role\": \"user\", \"content\": prompt}]\n",
    ")\n",
    "print(response['choices'][0]['message']['content'])"
   ]
  },
  {
   "cell_type": "markdown",
   "id": "8024dfe7",
   "metadata": {},
   "source": [
    "## Generated Knowledge Prompting"
   ]
  },
  {
   "cell_type": "code",
   "execution_count": null,
   "id": "db9c0e3a",
   "metadata": {},
   "outputs": [],
   "source": [
    "context = openai.ChatCompletion.create(\n",
    "  model=\"gpt-3.5-turbo\",\n",
    "  messages=[{\"role\": \"user\", \"content\": \"Summarize what diabetes is in 3 lines.\"}]\n",
    ")['choices'][0]['message']['content']\n",
    "\n",
    "question = f\"\"\"Use this info to answer: {context}\n",
    "Q: Can diabetes be cured?\n",
    "\"\"\"\n",
    "response = openai.ChatCompletion.create(\n",
    "  model=\"gpt-3.5-turbo\",\n",
    "  messages=[{\"role\": \"user\", \"content\": question}]\n",
    ")\n",
    "print(response['choices'][0]['message']['content'])"
   ]
  },
  {
   "cell_type": "markdown",
   "id": "e28a1b6a",
   "metadata": {},
   "source": [
    "## Contextual Prompting (Simulated RAG)"
   ]
  },
  {
   "cell_type": "code",
   "execution_count": null,
   "id": "e19bc9de",
   "metadata": {},
   "outputs": [],
   "source": [
    "docs = \"\"\"Python is a high-level programming language used for data science, web development, and automation.\n",
    "It has libraries like Pandas, NumPy, and Scikit-learn.\"\"\"\n",
    "prompt = f\"\"\"Use this document to answer:\n",
    "\n",
    "Document:\n",
    "\"\"\"{docs}\"\"\"\n",
    "\n",
    "Q: What are some libraries Python uses for data science?\n",
    "\"\"\"\n",
    "response = openai.ChatCompletion.create(\n",
    "  model=\"gpt-3.5-turbo\",\n",
    "  messages=[{\"role\": \"user\", \"content\": prompt}]\n",
    ")\n",
    "print(response['choices'][0]['message']['content'])"
   ]
  },
  {
   "cell_type": "markdown",
   "id": "dc719857",
   "metadata": {},
   "source": [
    "## Multi-Turn Prompting"
   ]
  },
  {
   "cell_type": "code",
   "execution_count": null,
   "id": "ff42a9bc",
   "metadata": {},
   "outputs": [],
   "source": [
    "conversation = [\n",
    "    {\"role\": \"system\", \"content\": \"You are a helpful assistant.\"},\n",
    "    {\"role\": \"user\", \"content\": \"Hi, I'm Subhash.\"},\n",
    "    {\"role\": \"assistant\", \"content\": \"Hello Subhash! How can I help you?\"},\n",
    "    {\"role\": \"user\", \"content\": \"What's my name?\"}\n",
    "]\n",
    "response = openai.ChatCompletion.create(\n",
    "  model=\"gpt-3.5-turbo\",\n",
    "  messages=conversation\n",
    ")\n",
    "print(response['choices'][0]['message']['content'])"
   ]
  },
  {
   "cell_type": "markdown",
   "id": "d407d619",
   "metadata": {},
   "source": [
    "## Prompt Chaining"
   ]
  },
  {
   "cell_type": "code",
   "execution_count": null,
   "id": "9f364ad8",
   "metadata": {},
   "outputs": [],
   "source": [
    "# Step 1\n",
    "topic = \"10 tips for writing resumes\"\n",
    "step1 = openai.ChatCompletion.create(\n",
    "  model=\"gpt-3.5-turbo\",\n",
    "  messages=[{\"role\": \"user\", \"content\": f\"Create a catchy blog title about: {topic}\"}]\n",
    ")['choices'][0]['message']['content']\n",
    "\n",
    "# Step 2\n",
    "step2 = openai.ChatCompletion.create(\n",
    "  model=\"gpt-3.5-turbo\",\n",
    "  messages=[{\"role\": \"user\", \"content\": f\"Write a blog post on: {step1}\"}]\n",
    ")\n",
    "print(step2['choices'][0]['message']['content'])"
   ]
  },
  {
   "cell_type": "markdown",
   "id": "b1b90602",
   "metadata": {},
   "source": [
    "## Role Play Prompting"
   ]
  },
  {
   "cell_type": "code",
   "execution_count": null,
   "id": "8038e05d",
   "metadata": {},
   "outputs": [],
   "source": [
    "response = openai.ChatCompletion.create(\n",
    "  model=\"gpt-3.5-turbo\",\n",
    "  messages=[\n",
    "      {\"role\": \"system\", \"content\": \"You are Tony Stark, sarcastic billionaire genius.\"},\n",
    "      {\"role\": \"user\", \"content\": \"What is AI?\"}\n",
    "  ]\n",
    ")\n",
    "print(response['choices'][0]['message']['content'])"
   ]
  }
 ],
 "metadata": {},
 "nbformat": 4,
 "nbformat_minor": 5
}
